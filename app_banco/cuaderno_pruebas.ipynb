{
 "cells": [
  {
   "cell_type": "code",
   "execution_count": 1,
   "metadata": {},
   "outputs": [],
   "source": [
    "import os\n",
    "import django\n",
    "from django.conf import settings\n",
    " \n",
    "# Ajusta la ruta al directorio de tu proyecto Django\n",
    "os.environ['DJANGO_SETTINGS_MODULE'] = 'app_banco.settings'\n",
    "django.setup()\n",
    "\n",
    "os.environ[\"DJANGO_ALLOW_ASYNC_UNSAFE\"] = \"true\""
   ]
  },
  {
   "cell_type": "code",
   "execution_count": 2,
   "metadata": {},
   "outputs": [],
   "source": [
    "from cuentas.models import Cliente, Cuenta, Movimiento"
   ]
  },
  {
   "cell_type": "markdown",
   "metadata": {},
   "source": [
    "### Crear un cliente nuevo"
   ]
  },
  {
   "cell_type": "code",
   "execution_count": 4,
   "metadata": {},
   "outputs": [],
   "source": [
    "cliente_nuevo = Cliente.objects.create(nombre='Felipe', \n",
    "                                       apellido='Armas', \n",
    "                                       cedula='9992')\n",
    "cliente_nuevo.save()"
   ]
  },
  {
   "cell_type": "code",
   "execution_count": 5,
   "metadata": {},
   "outputs": [],
   "source": [
    "# Craer una cuenta para cliente_nuevo\n",
    "nueva_cuenta = Cuenta.objects.create(cliente = cliente_nuevo,\n",
    "                                     saldo = 1000)\n",
    "nueva_cuenta.save()"
   ]
  },
  {
   "cell_type": "markdown",
   "metadata": {},
   "source": [
    "### Listado de clientes"
   ]
  },
  {
   "cell_type": "code",
   "execution_count": 6,
   "metadata": {},
   "outputs": [
    {
     "name": "stdout",
     "output_type": "stream",
     "text": [
      "Lucia Perez 123\n",
      "Juan Lopez 456\n",
      "Ana Torres 789\n",
      "Felipe Armas 9992\n"
     ]
    }
   ],
   "source": [
    "clientes = Cliente.objects.all()\n",
    "for cliente in clientes:\n",
    "    print(cliente, cliente.cedula)"
   ]
  },
  {
   "cell_type": "markdown",
   "metadata": {},
   "source": [
    "### Crear cuenta"
   ]
  },
  {
   "cell_type": "markdown",
   "metadata": {},
   "source": [
    "### Listado de cuentas"
   ]
  },
  {
   "cell_type": "code",
   "execution_count": 12,
   "metadata": {},
   "outputs": [
    {
     "name": "stdout",
     "output_type": "stream",
     "text": [
      "Lucia Perez 1 400.00\n",
      "Juan Lopez 2 600.00\n",
      "Ana Torres 3 1000.00\n",
      "Ana Torres 4 1000.00\n",
      "Felipe Armas 5 1000.00\n"
     ]
    }
   ],
   "source": [
    "cuentas = Cuenta.objects.all()\n",
    "for cuenta in cuentas:\n",
    "    print(cuenta.cliente, cuenta.id, cuenta.saldo)"
   ]
  },
  {
   "cell_type": "code",
   "execution_count": 8,
   "metadata": {},
   "outputs": [],
   "source": [
    "cuenta_lucia = Cuenta.objects.get(id=1)\n",
    "cuenta_juan = Cuenta.objects.get(id=2)"
   ]
  },
  {
   "cell_type": "code",
   "execution_count": 22,
   "metadata": {},
   "outputs": [],
   "source": [
    "cuenta_lucia.depositar(200, \"Deposito en efectivo, agencia Tumbaco\")"
   ]
  },
  {
   "cell_type": "code",
   "execution_count": 11,
   "metadata": {},
   "outputs": [],
   "source": [
    "cuenta_lucia.transferir(100, cuenta_juan, \"Pago de deuda\")"
   ]
  },
  {
   "cell_type": "code",
   "execution_count": 23,
   "metadata": {},
   "outputs": [],
   "source": [
    "cuenta_juan.depositar(100, \"Deposito en efectivo, agencia Tumbaco\")"
   ]
  },
  {
   "cell_type": "code",
   "execution_count": 13,
   "metadata": {},
   "outputs": [
    {
     "name": "stdout",
     "output_type": "stream",
     "text": [
      "1 Lucia Perez - 400.00 2024-08-09 01:16:20.816215+00:00 100.00 Deposito en efectivo, agencia Tumbaco\n",
      "2 Juan Lopez - 600.00 2024-08-09 01:16:48.362081+00:00 200.00 Deposito en efectivo, agencia Tumbaco\n",
      "1 Lucia Perez - 400.00 2024-08-09 01:17:13.899132+00:00 200.00 Deposito en efectivo, agencia Tumbaco\n",
      "2 Juan Lopez - 600.00 2024-08-09 01:17:14.244868+00:00 100.00 Deposito en efectivo, agencia Tumbaco\n",
      "1 Lucia Perez - 400.00 2024-08-09 01:23:36.639328+00:00 100.00 Transferencia a cuenta 2 por Pago de deuda\n",
      "2 Juan Lopez - 600.00 2024-08-09 01:23:36.644754+00:00 100.00 Transferencia de cuenta 1 por Pago de deuda\n",
      "1 Lucia Perez - 400.00 2024-08-09 01:23:49.308629+00:00 100.00 Transferencia a cuenta 2 por Pago de deuda\n",
      "2 Juan Lopez - 600.00 2024-08-09 01:23:49.313373+00:00 100.00 Transferencia de cuenta 1 por Pago de deuda\n"
     ]
    }
   ],
   "source": [
    "movimientos = Movimiento.objects.all()\n",
    "for movimiento in movimientos:\n",
    "    print(movimiento.cuenta, movimiento.fecha_y_hora, movimiento.monto, movimiento.descripcion)"
   ]
  },
  {
   "cell_type": "code",
   "execution_count": 17,
   "metadata": {},
   "outputs": [
    {
     "name": "stdout",
     "output_type": "stream",
     "text": [
      "1 Lucia Perez - 200.00 deposito 2024-08-09 01:16:20.816215+00:00 100.00 Deposito en efectivo, agencia Tumbaco\n",
      "1 Lucia Perez - 200.00 deposito 2024-08-09 01:17:13.899132+00:00 200.00 Deposito en efectivo, agencia Tumbaco\n",
      "1 Lucia Perez - 200.00 retiro 2024-08-09 01:23:36.639328+00:00 100.00 Transferencia a cuenta 2 por Pago de deuda\n",
      "1 Lucia Perez - 200.00 retiro 2024-08-09 01:23:49.308629+00:00 100.00 Transferencia a cuenta 2 por Pago de deuda\n"
     ]
    }
   ],
   "source": [
    "movimientos_lucia = cuenta_lucia.movimientos.all()\n",
    "for movimiento in movimientos_lucia:\n",
    "    print(movimiento.cuenta, movimiento.tipo, movimiento.fecha_y_hora, movimiento.monto, movimiento.descripcion)"
   ]
  },
  {
   "cell_type": "code",
   "execution_count": 19,
   "metadata": {},
   "outputs": [
    {
     "name": "stdout",
     "output_type": "stream",
     "text": [
      "2 Juan Lopez - 600.00 deposito 2024-08-09 01:16:48.362081+00:00 200.00 Deposito en efectivo, agencia Tumbaco\n",
      "2 Juan Lopez - 600.00 deposito 2024-08-09 01:17:14.244868+00:00 100.00 Deposito en efectivo, agencia Tumbaco\n",
      "2 Juan Lopez - 600.00 deposito 2024-08-09 01:23:36.644754+00:00 100.00 Transferencia de cuenta 1 por Pago de deuda\n",
      "2 Juan Lopez - 600.00 deposito 2024-08-09 01:23:49.313373+00:00 100.00 Transferencia de cuenta 1 por Pago de deuda\n"
     ]
    }
   ],
   "source": [
    "movimientos_juan = Movimiento.objects.filter(\n",
    "                                    cuenta = Cuenta.objects.get(id=2)\n",
    "                                    )\n",
    "\n",
    "for movimiento in movimientos_juan:\n",
    "    print(movimiento.cuenta, movimiento.tipo, movimiento.fecha_y_hora, movimiento.monto, movimiento.descripcion)"
   ]
  },
  {
   "cell_type": "code",
   "execution_count": null,
   "metadata": {},
   "outputs": [],
   "source": []
  }
 ],
 "metadata": {
  "kernelspec": {
   "display_name": "banco",
   "language": "python",
   "name": "python3"
  },
  "language_info": {
   "codemirror_mode": {
    "name": "ipython",
    "version": 3
   },
   "file_extension": ".py",
   "mimetype": "text/x-python",
   "name": "python",
   "nbconvert_exporter": "python",
   "pygments_lexer": "ipython3",
   "version": "3.12.4"
  }
 },
 "nbformat": 4,
 "nbformat_minor": 2
}
